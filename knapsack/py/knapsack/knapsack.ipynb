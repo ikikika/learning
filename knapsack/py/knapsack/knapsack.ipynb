{
  "cells": [
    {
      "cell_type": "code",
      "execution_count": 1,
      "metadata": {
        "colab": {
          "base_uri": "https://localhost:8080/"
        },
        "id": "F5_c_NSGmPJw",
        "outputId": "f0af8a18-dbd7-4a79-dd80-ad2fbfcde3f8"
      },
      "outputs": [
        {
          "output_type": "stream",
          "name": "stdout",
          "text": [
            "Collecting rectpack\n",
            "  Downloading rectpack-0.2.2.tar.gz (17 kB)\n",
            "  Preparing metadata (setup.py) ... \u001b[?25l\u001b[?25hdone\n",
            "Building wheels for collected packages: rectpack\n",
            "  Building wheel for rectpack (setup.py) ... \u001b[?25l\u001b[?25hdone\n",
            "  Created wheel for rectpack: filename=rectpack-0.2.2-py3-none-any.whl size=19333 sha256=a52bed283d3c42985a2994b632d435dd6b296fed964110a61a43c832c7f4a4ff\n",
            "  Stored in directory: /root/.cache/pip/wheels/c7/40/95/f04f84afcee7624b9bb02c652d8116f0ffa3653f962ce46fa3\n",
            "Successfully built rectpack\n",
            "Installing collected packages: rectpack\n",
            "Successfully installed rectpack-0.2.2\n"
          ]
        }
      ],
      "source": [
        "!pip install rectpack"
      ]
    },
    {
      "cell_type": "markdown",
      "source": [
        "## Create a packer with specified algorithms and options\n",
        "### mode=`PackingMode.Offline`\n",
        "- Offline packing mode  : Packs all rectangles at once.\n",
        "- `PackingMode.Online`    : Packs rectangles one at a time as they arrive. Use this for dynamic or real-time packing scenarios.\n",
        "\n",
        "### bin_algo=`PackingBin.BBF`\n",
        "- Best Bin Fit  : Selects the bin where the rectangle fits best.\n",
        "- `PackingBin.BFF`  : Best Fit First - Tries to place each rectangle in the most space-efficient bin.\n",
        "- `PackingBin.WF` : Worst Fit - Chooses the bin with the most remaining space.\n",
        "- `PackingBin.NF` : Next Fit - Uses the first available bin that fits the rectangle.\n",
        "- `PackingBin.FF` : First Fit - Similar to Next Fit but checks all bins in order.\n",
        "\n",
        "### pack_algo=`MaxRectsBl`\n",
        "- `MaxRectsBssf` - Max Rectangles (Best Short Side Fit): Chooses placement based on the shortest side.\n",
        "- `MaxRectsBaf`: Best Area Fit - Prioritizes minimizing the leftover space in the bin.\n",
        "- `MaxRectsBl`: Bottom-Left - Places rectangles closest to the bottom-left corner.\n",
        "- `GuillotineBssf`: Guillotine partitioning (Best Short Side Fit) - Cuts bins into sections.\n",
        "- `GuillotineBaf`: Guillotine (Best Area Fit).\n",
        "- `SkylineBlWm`: Skyline (Bottom-Left with Minimal Waste).\n",
        "\n",
        "### sort_algo=`SORT_NONE`\n",
        "- `SORT_AREA`: Sorts rectangles by area (largest first).\n",
        "- `SORT_NONE`: No sorting; rectangles are packed in the order they're added.\n",
        "- `SORT_PERI`: Sorts by perimeter (largest perimeter first).\n",
        "- `SORT_SIDE`: Sorts by the longest side (largest first).\n",
        "- `SORT_SSIDE`: Sorts by the shortest side (largest first).\n",
        "\n",
        "### rotation=`False`            \n",
        "- Allow rotation of rectangles: Set to True to enable rotation.\n",
        "- <b>`True`</b>: Enables 90-degree rotation, which can improve packing efficiency.\n",
        "\n",
        "## Input\n",
        "- rectangles = [(100, 30), (40, 60), (30, 30), (70, 70), (100, 50), (30, 30)]  \n",
        "- bins = [(300, 450), (80, 40), (200, 150)]\n",
        "\n",
        "## Output\n",
        "- Packed rectangles: Each tuple represents (bin_index, x, y, width, height, rid)\n",
        "  - bin_index: Index of the bin where the rectangle was packed\n",
        "  - x, y: Bottom-left corner coordinates of the rectangle in the bin\n",
        "  - width, height: Dimensions of the rectangle\n",
        "  - rid: Rectangle ID (None if not provided)\n",
        "\n"
      ],
      "metadata": {
        "id": "SJL_DvMXTN8y"
      }
    },
    {
      "cell_type": "code",
      "source": [],
      "metadata": {
        "id": "_Xv2ZfrVNmWz"
      },
      "execution_count": null,
      "outputs": []
    },
    {
      "cell_type": "markdown",
      "metadata": {
        "id": "anpUhHNZsyaZ"
      },
      "source": [
        "## Default Lib without MatPlotlib"
      ]
    },
    {
      "cell_type": "code",
      "execution_count": 4,
      "metadata": {
        "colab": {
          "base_uri": "https://localhost:8080/"
        },
        "id": "VyLFHm-xm6xE",
        "outputId": "ab7d129b-18e3-48fa-dd4f-e2b0b42cc9b7"
      },
      "outputs": [
        {
          "output_type": "stream",
          "name": "stdout",
          "text": [
            "[(0, 0, 0, 100, 30, None), (0, 100, 0, 40, 60, None), (0, 0, 30, 30, 30, None), (0, 30, 30, 70, 70, None), (0, 140, 0, 100, 50, None), (0, 0, 60, 30, 30, None)]\n"
          ]
        }
      ],
      "source": [
        "# from rectpack import newPacker, PackingMode, PackingBin, MaxRectsBssf, SORT_AREA\n",
        "from rectpack import newPacker, PackingMode, PackingBin, MaxRectsBssf, SORT_AREA, SORT_NONE, MaxRectsBaf, MaxRectsBl, SkylineBlWm, SORT_AREA, SORT_NONE, SORT_PERI, SORT_SSIDE\n",
        "\n",
        "rectangles = [(100, 30), (40, 60), (30, 30), (70, 70), (100, 50), (30, 30)]  # 6 rectangles\n",
        "bins = [(300, 450), (80, 40), (200, 150)]\n",
        "\n",
        "# Create a packer with specified algorithms and options\n",
        "packer = newPacker(\n",
        "    mode=PackingMode.Offline,\n",
        "\n",
        "    bin_algo=PackingBin.BBF,\n",
        "\n",
        "    pack_algo=MaxRectsBaf,\n",
        "\n",
        "    sort_algo=SORT_NONE,\n",
        "\n",
        "    rotation=False\n",
        ")\n",
        "\n",
        "# Add the rectangles to the packing queue\n",
        "for r in rectangles:\n",
        "    packer.add_rect(*r)\n",
        "\n",
        "# Add the bins where the rectangles will be placed\n",
        "for b in bins:\n",
        "    packer.add_bin(*b)\n",
        "\n",
        "# Start packing\n",
        "packer.pack()\n",
        "\n",
        "# Retrieve the list of packed rectangles\n",
        "packed_rectangles = packer.rect_list()\n",
        "print(packed_rectangles)\n"
      ]
    },
    {
      "cell_type": "markdown",
      "metadata": {
        "id": "LmXZfYAxs3mJ"
      },
      "source": [
        "## Offline + Best Bin Fit + MaxRectsBssf"
      ]
    },
    {
      "cell_type": "code",
      "execution_count": 5,
      "metadata": {
        "colab": {
          "base_uri": "https://localhost:8080/",
          "height": 715
        },
        "id": "BwNj8-6kr51w",
        "outputId": "c73ee87d-f372-4973-d70f-97ec459be9e9"
      },
      "outputs": [
        {
          "output_type": "stream",
          "name": "stdout",
          "text": [
            "Requirement already satisfied: rectpack in /usr/local/lib/python3.11/dist-packages (0.2.2)\n",
            "Requirement already satisfied: matplotlib in /usr/local/lib/python3.11/dist-packages (3.10.0)\n",
            "Requirement already satisfied: contourpy>=1.0.1 in /usr/local/lib/python3.11/dist-packages (from matplotlib) (1.3.1)\n",
            "Requirement already satisfied: cycler>=0.10 in /usr/local/lib/python3.11/dist-packages (from matplotlib) (0.12.1)\n",
            "Requirement already satisfied: fonttools>=4.22.0 in /usr/local/lib/python3.11/dist-packages (from matplotlib) (4.56.0)\n",
            "Requirement already satisfied: kiwisolver>=1.3.1 in /usr/local/lib/python3.11/dist-packages (from matplotlib) (1.4.8)\n",
            "Requirement already satisfied: numpy>=1.23 in /usr/local/lib/python3.11/dist-packages (from matplotlib) (1.26.4)\n",
            "Requirement already satisfied: packaging>=20.0 in /usr/local/lib/python3.11/dist-packages (from matplotlib) (24.2)\n",
            "Requirement already satisfied: pillow>=8 in /usr/local/lib/python3.11/dist-packages (from matplotlib) (11.1.0)\n",
            "Requirement already satisfied: pyparsing>=2.3.1 in /usr/local/lib/python3.11/dist-packages (from matplotlib) (3.2.1)\n",
            "Requirement already satisfied: python-dateutil>=2.7 in /usr/local/lib/python3.11/dist-packages (from matplotlib) (2.8.2)\n",
            "Requirement already satisfied: six>=1.5 in /usr/local/lib/python3.11/dist-packages (from python-dateutil>=2.7->matplotlib) (1.17.0)\n"
          ]
        },
        {
          "output_type": "display_data",
          "data": {
            "text/plain": [
              "<Figure size 1500x500 with 3 Axes>"
            ],
            "image/png": "[encoded data removed]"
          },
          "metadata": {}
        }
      ],
      "source": [
        "# from rectpack import newPacker\n",
        "from rectpack import newPacker, PackingMode, PackingBin, MaxRectsBssf, SORT_AREA, SORT_NONE, MaxRectsBaf, MaxRectsBl, SkylineBlWm, SORT_AREA, SORT_NONE, SORT_PERI, SORT_SSIDE\n",
        "!pip install rectpack\n",
        "!pip install matplotlib\n",
        "\n",
        "import matplotlib.pyplot as plt\n",
        "import matplotlib.patches as patches\n",
        "\n",
        "# ### Packing rectangles into a number of bins\n",
        "\n",
        "rectangles = [(100, 30), (40, 60), (30, 30),(70, 70), (100, 50), (30, 40),(100, 30), (40, 60), (30, 60),(70, 70), (100, 50), (30, 30),(100, 30),\n",
        " (40, 60), (30, 30),(70, 70), (100, 50), (40, 30),(100, 30), (40, 60), (30, 30),(70, 70), (100, 50), (80, 30)]\n",
        "bins = [(150, 300), (125,60), (100, 200)]\n",
        "\n",
        "# Create a packer with specified algorithms and options\n",
        "packer = newPacker(\n",
        "    mode=PackingMode.Offline,  # Offline packing mode\n",
        "    bin_algo=PackingBin.BBF,  # Best Bin Fit algorithm\n",
        "    pack_algo=MaxRectsBssf,   # Max Rectangles - Best Short Side Fit\n",
        "    sort_algo=SORT_AREA,      # Sort rectangles by area\n",
        "    rotation=False             # Allow rotation of rectangles\n",
        ")\n",
        "\n",
        "# Add the rectangles to packing queue\n",
        "for r in rectangles:\n",
        "\tpacker.add_rect(*r)\n",
        "\n",
        "# Add the bins where the rectangles will be placed\n",
        "for b in bins:\n",
        "\tpacker.add_bin(*b)\n",
        "\n",
        "# Start packing\n",
        "packer.pack()\n",
        "\n",
        "packed_rectangles = packer.rect_list()\n",
        "\n",
        "\n",
        "# Visualization\n",
        "fig, axes = plt.subplots(1, len(bins), figsize=(15, 5))\n",
        "\n",
        "for i, b in enumerate(bins):\n",
        "    ax = axes[i]\n",
        "    ax.set_xlim(0, b[0])\n",
        "    ax.set_ylim(0, b[1])\n",
        "    ax.set_aspect('equal')\n",
        "    ax.set_title(f\"Bin {i+1} ({b[0]}x{b[1]})\")\n",
        "\n",
        "    for rect in packed_rectangles:\n",
        "        if rect[0] == i:  # Check if rectangle belongs to the current bin\n",
        "            x, y, w, h = rect[1], rect[2], rect[3], rect[4]\n",
        "            rect_patch = patches.Rectangle((x, y), w, h, linewidth=1, edgecolor='r', facecolor='lightblue')\n",
        "            ax.add_patch(rect_patch)\n",
        "\n",
        "    ax.set_xticks(range(0, b[0] + 1, 50)) # Adjust tick frequency as needed\n",
        "    ax.set_yticks(range(0, b[1] + 1, 50))\n",
        "\n",
        "plt.tight_layout()\n",
        "plt.show()"
      ]
    },
    {
      "cell_type": "markdown",
      "source": [
        "## Offline + Best Bin Fit + MaxRectsBl"
      ],
      "metadata": {
        "id": "EBD1p1kLTCti"
      }
    },
    {
      "cell_type": "code",
      "source": [
        "# from rectpack import newPacker, PackingMode, PackingBin, MaxRectsBssf, SORT_AREA\n",
        "from rectpack import newPacker, PackingMode, PackingBin, MaxRectsBssf, SORT_AREA, SORT_NONE, MaxRectsBaf, MaxRectsBl #, GuillotineBssf, GuillotineBaf, SkylineBlWm\n",
        "import matplotlib.pyplot as plt\n",
        "import matplotlib.patches as patches\n",
        "\n",
        "\n",
        "rectangles = [(100, 30), (40, 60), (30, 30),(70, 70), (100, 50), (30, 40),(100, 30), (40, 60), (30, 60),(70, 70), (100, 50), (30, 30),(100, 30),\n",
        " (40, 60), (30, 30),(70, 70), (100, 50), (40, 30),(100, 30), (40, 60), (30, 30),(70, 70), (100, 50), (80, 30)]\n",
        "bins = [(150, 300), (125,60), (100, 200)]\n",
        "\n",
        "# Create a packer with specified algorithms and options\n",
        "packer = newPacker(\n",
        "    mode=PackingMode.Offline,\n",
        "\n",
        "    bin_algo=PackingBin.BBF,\n",
        "\n",
        "    pack_algo=MaxRectsBl,\n",
        "\n",
        "    sort_algo=SORT_NONE,\n",
        "\n",
        "    rotation=False\n",
        ")\n",
        "\n",
        "\n",
        "# Add the rectangles to packing queue\n",
        "for r in rectangles:\n",
        "\tpacker.add_rect(*r)\n",
        "\n",
        "# Add the bins where the rectangles will be placed\n",
        "for b in bins:\n",
        "\tpacker.add_bin(*b)\n",
        "\n",
        "# Start packing\n",
        "packer.pack()\n",
        "\n",
        "packed_rectangles = packer.rect_list()\n",
        "\n",
        "\n",
        "\n",
        "# Visualization\n",
        "fig, axes = plt.subplots(1, len(bins), figsize=(15, 5))\n",
        "\n",
        "for i, b in enumerate(bins):\n",
        "    ax = axes[i]\n",
        "    ax.set_xlim(0, b[0])\n",
        "    ax.set_ylim(0, b[1])\n",
        "    ax.set_aspect('equal')\n",
        "    ax.set_title(f\"Bin {i+1} ({b[0]}x{b[1]})\")\n",
        "\n",
        "    for rect in packed_rectangles:\n",
        "        if rect[0] == i:  # Check if rectangle belongs to the current bin\n",
        "            x, y, w, h = rect[1], rect[2], rect[3], rect[4]\n",
        "            rect_patch = patches.Rectangle((x, y), w, h, linewidth=1, edgecolor='r', facecolor='lightblue')\n",
        "            ax.add_patch(rect_patch)\n",
        "\n",
        "    ax.set_xticks(range(0, b[0] + 1, 50)) # Adjust tick frequency as needed\n",
        "    ax.set_yticks(range(0, b[1] + 1, 50))\n",
        "\n",
        "plt.tight_layout()\n",
        "plt.show()"
      ],
      "metadata": {
        "colab": {
          "base_uri": "https://localhost:8080/",
          "height": 507
        },
        "id": "bUeF1LKpPGUt",
        "outputId": "b3279c4b-297a-47f5-bff7-f753f4c1b575"
      },
      "execution_count": null,
      "outputs": [
        {
          "output_type": "display_data",
          "data": {
            "text/plain": [
              "<Figure size 1500x500 with 3 Axes>"
            ],
            "image/png": "[encoded data removed]"
          },
          "metadata": {}
        }
      ]
    },
    {
      "cell_type": "markdown",
      "source": [
        "## For Jit"
      ],
      "metadata": {
        "id": "D7pHy6owWLRL"
      }
    },
    {
      "cell_type": "code",
      "source": [
        "# from rectpack import newPacker, PackingMode, PackingBin, MaxRectsBssf, SORT_AREA\n",
        "from rectpack import newPacker, PackingMode, PackingBin, MaxRectsBssf, SORT_AREA, SORT_NONE, MaxRectsBaf, MaxRectsBl, SkylineBlWm\n",
        "\n",
        "rectangles = [(100, 30), (40, 60), (30, 30),(70, 70), (100, 50), (30, 40),(100, 30), (40, 60), (30, 60),(70, 70), (100, 50), (30, 30),(100, 30),\n",
        " (40, 60), (30, 30),(70, 70), (100, 50), (40, 30),(100, 30), (40, 60), (30, 30),(70, 70), (100, 50), (80, 30)]\n",
        "bins = [(150, 300), (125,60), (100, 200)]\n",
        "\n",
        "# Create a packer with specified algorithms and options\n",
        "packer = newPacker(\n",
        "    mode=PackingMode.Offline,  # Offline packing mode: Packs all rectangles at once.\n",
        "    # Alternatives for mode:\n",
        "    # PackingMode.Online: Packs rectangles one at a time as they arrive.\n",
        "    # Use this for dynamic or real-time packing scenarios.\n",
        "\n",
        "    bin_algo=PackingBin.BBF,  # Best Bin Fit: Selects the bin where the rectangle fits best.\n",
        "    # Alternatives for bin_algo:\n",
        "    # PackingBin.BFF: Best Fit First - Tries to place each rectangle in the most space-efficient bin.\n",
        "    # PackingBin.WF: Worst Fit - Chooses the bin with the most remaining space.\n",
        "    # PackingBin.NF: Next Fit - Uses the first available bin that fits the rectangle.\n",
        "    # PackingBin.FF: First Fit - Similar to Next Fit but checks all bins in order.\n",
        "\n",
        "    pack_algo=MaxRectsBl,\n",
        "\t\t# MaxRectsBssf,   # Max Rectangles (Best Short Side Fit): Chooses placement based on the shortest side.\n",
        "    # Alternatives for pack_algo:\n",
        "    # MaxRectsBaf: Best Area Fit - Prioritizes minimizing the leftover space in the bin.\n",
        "    # MaxRectsBl: Bottom-Left - Places rectangles closest to the bottom-left corner.\n",
        "    # GuillotineBssf: Guillotine partitioning (Best Short Side Fit) - Cuts bins into sections.\n",
        "    # GuillotineBaf: Guillotine (Best Area Fit).\n",
        "    # SkylineBlWm: Skyline (Bottom-Left with Minimal Waste).\n",
        "\n",
        "    sort_algo=SORT_NONE,\n",
        "\t\t#  SORT_AREA,      # Sorts rectangles by area (largest first).\n",
        "    # Alternatives for sort_algo:\n",
        "    # SORT_NONE: No sorting; rectangles are packed in the order they're added.\n",
        "    # SORT_PERI: Sorts by perimeter (largest perimeter first).\n",
        "    # SORT_SIDE: Sorts by the longest side (largest first).\n",
        "    # SORT_SSIDE: Sorts by the shortest side (largest first).\n",
        "\n",
        "    rotation=False            # Allow rotation of rectangles: Set to True to enable rotation.\n",
        "    # Alternatives for rotation:\n",
        "    # True: Enables 90-degree rotation, which can improve packing efficiency.\n",
        "    # False: No rotation allowed.\n",
        ")\n",
        "\n",
        "# Add the rectangles to the packing queue\n",
        "for r in rectangles:\n",
        "    packer.add_rect(*r)\n",
        "\n",
        "# Add the bins where the rectangles will be placed\n",
        "for b in bins:\n",
        "    packer.add_bin(*b)\n",
        "\n",
        "# Start packing\n",
        "packer.pack()\n",
        "\n",
        "# Retrieve the list of packed rectangles\n",
        "packed_rectangles = packer.rect_list()\n",
        "print(packed_rectangles)\n",
        "\n",
        "# Packed rectangles: Each tuple represents (bin_index, x, y, width, height, rid)\n",
        "# bin_index: Index of the bin where the rectangle was packed\n",
        "# x, y: Bottom-left corner coordinates of the rectangle in the bin\n",
        "# width, height: Dimensions of the rectangle\n",
        "# rid: Rectangle ID (None if not provided)\n"
      ],
      "metadata": {
        "colab": {
          "base_uri": "https://localhost:8080/"
        },
        "id": "Mlb9tSfKWKPW",
        "outputId": "8ee72303-f162-490a-c1db-9ee5f08643f3"
      },
      "execution_count": null,
      "outputs": [
        {
          "output_type": "stream",
          "name": "stdout",
          "text": [
            "[(0, 0, 0, 100, 30, None), (0, 100, 0, 40, 60, None), (0, 0, 30, 30, 30, None), (0, 30, 30, 70, 70, None), (0, 0, 100, 100, 50, None), (0, 0, 60, 30, 40, None), (0, 0, 150, 100, 30, None), (0, 100, 60, 40, 60, None), (0, 100, 120, 30, 60, None), (0, 0, 180, 70, 70, None), (0, 0, 250, 100, 50, None), (0, 100, 180, 30, 30, None), (0, 100, 210, 40, 60, None), (0, 70, 180, 30, 30, None), (0, 100, 270, 40, 30, None), (0, 70, 210, 30, 30, None), (1, 0, 0, 100, 30, None), (1, 0, 30, 100, 30, None), (2, 0, 0, 70, 70, None), (2, 0, 70, 100, 50, None), (2, 0, 120, 40, 60, None)]\n"
          ]
        }
      ]
    },
    {
      "cell_type": "code",
      "source": [
        "from rectpack import newPacker\n",
        "import matplotlib.pyplot as plt\n",
        "import matplotlib.patches as patches\n",
        "\n",
        "# Define the fixed rectangles and their positions\n",
        "fixed_rectangles = [\n",
        "    (10, 20, 10, 10),  # (width, height, x, y)\n",
        "    (50, 30, 70, 70),\n",
        "]\n",
        "\n",
        "# Define the other rectangles to be packed\n",
        "rectangles_to_pack = [\n",
        "    (50, 50),\n",
        "    (80, 80),\n",
        "    (120, 60),\n",
        "]\n",
        "\n",
        "# Create a new packer object with rotation allowed\n",
        "packer = newPacker(rotation=True)\n",
        "\n",
        "# Add bins (containers)\n",
        "packer.add_bin(width=200, height=200)\n",
        "\n",
        "# Add other rectangles to be packed\n",
        "for width, height in rectangles_to_pack:\n",
        "    packer.add_rect(width, height)\n",
        "\n",
        "# Pack the rectangles into the bins\n",
        "packer.pack()\n",
        "\n",
        "# Retrieve the packing results\n",
        "packed_rects = []\n",
        "\n",
        "for bin in packer:\n",
        "    for rect in bin:\n",
        "        packed_rects.append(rect)\n",
        "\n",
        "# Function to check if two rectangles overlap\n",
        "def rectangles_overlap(rect1, rect2):\n",
        "    return not (rect1.x + rect1.width <= rect2[2] or\n",
        "                rect1.x >= rect2[2] + rect2[0] or\n",
        "                rect1.y + rect1.height <= rect2[3] or\n",
        "                rect1.y >= rect2[3] + rect2[1])\n",
        "\n",
        "# Filter out packed rectangles that overlap with fixed rectangles\n",
        "non_overlapping_rects = []\n",
        "\n",
        "for rect in packed_rects:\n",
        "    overlap = False\n",
        "    for fixed in fixed_rectangles:\n",
        "        if rectangles_overlap(rect, fixed):\n",
        "            overlap = True\n",
        "            break\n",
        "    if not overlap:\n",
        "        non_overlapping_rects.append(rect)\n",
        "\n",
        "# Manually place the fixed rectangles on the grid\n",
        "for width, height, x, y in fixed_rectangles:\n",
        "    non_overlapping_rects.append(patches.Rectangle((x, y), width, height, edgecolor='black', facecolor='red', alpha=0.5, label='Fixed'))\n",
        "\n",
        "# Plot the grid and rectangles using matplotlib\n",
        "fig, ax = plt.subplots()\n",
        "\n",
        "# Draw the bin\n",
        "bin_width = 500\n",
        "bin_height = 200\n",
        "ax.set_xlim(0, bin_width)\n",
        "ax.set_ylim(0, bin_height)\n",
        "ax.set_aspect('equal')\n",
        "ax.add_patch(patches.Rectangle((0, 0), bin_width, bin_height, edgecolor='black', facecolor='none'))\n",
        "\n",
        "# Draw the non-overlapping packed rectangles\n",
        "for rect in non_overlapping_rects:\n",
        "    if isinstance(rect, patches.Rectangle):\n",
        "        ax.add_patch(rect)\n",
        "    else:\n",
        "        ax.add_patch(patches.Rectangle((rect.x, rect.y), rect.width, rect.height, edgecolor='black', facecolor='blue', alpha=0.5, label='Packed'))\n",
        "\n",
        "# Set grid lines every 10 units\n",
        "ax.set_xticks(range(0, bin_width + 10, 10))\n",
        "ax.set_yticks(range(0, bin_height + 10, 10))\n",
        "ax.grid(which='both', color='gray', linestyle='--', linewidth=0.5)\n",
        "\n",
        "# Remove axes labels\n",
        "ax.set_xticklabels([])\n",
        "ax.set_yticklabels([])\n",
        "\n",
        "# Remove axes\n",
        "ax.spines['top'].set_visible(False)\n",
        "ax.spines['right'].set_visible(False)\n",
        "ax.spines['left'].set_visible(False)\n",
        "ax.spines['bottom'].set_visible(False)\n",
        "\n",
        "# Add legend\n",
        "handles, labels = ax.get_legend_handles_labels()\n",
        "by_label = dict(zip(labels, handles))\n",
        "ax.legend(by_label.values(), by_label.keys())\n",
        "\n",
        "# Show the plot\n",
        "plt.gca().invert_yaxis()\n",
        "plt.show()\n"
      ],
      "metadata": {
        "id": "s3qWmX-QR6h9",
        "outputId": "e484aa12-8f4c-4b79-eb57-c9225ddfdcf7",
        "colab": {
          "base_uri": "https://localhost:8080/",
          "height": 235
        }
      },
      "execution_count": 41,
      "outputs": [
        {
          "output_type": "display_data",
          "data": {
            "text/plain": [
              "<Figure size 640x480 with 1 Axes>"
            ],
            "image/png": "[encoded data removed]"
          },
          "metadata": {}
        }
      ]
    }
  ],
  "metadata": {
    "colab": {
      "provenance": []
    },
    "kernelspec": {
      "display_name": "Python 3",
      "name": "python3"
    },
    "language_info": {
      "name": "python"
    }
  },
  "nbformat": 4,
  "nbformat_minor": 0
}